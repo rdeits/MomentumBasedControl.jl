{
 "cells": [
  {
   "cell_type": "code",
   "execution_count": null,
   "metadata": {},
   "outputs": [],
   "source": [
    "using Compat\n",
    "using MomentumBasedControl\n",
    "using RigidBodyDynamics\n",
    "using RigidBodyDynamics.PDControl\n",
    "using RigidBodyDynamics.Contact\n",
    "using StaticArrays\n",
    "using AtlasRobot\n",
    "using BenchmarkTools\n",
    "using Compat.Test\n",
    "using RigidBodySim\n",
    "\n",
    "import RigidBodyDynamics.Graphs: target"
   ]
  },
  {
   "cell_type": "code",
   "execution_count": null,
   "metadata": {},
   "outputs": [],
   "source": [
    "# load URDF\n",
    "mechanism = AtlasRobot.mechanism()\n",
    "remove_fixed_tree_joints!(mechanism);"
   ]
  },
  {
   "cell_type": "code",
   "execution_count": null,
   "metadata": {},
   "outputs": [],
   "source": [
    "# add environment\n",
    "rootframe = root_frame(mechanism)\n",
    "ground = HalfSpace3D(Point3D(rootframe, 0., 0., 0.), FreeVector3D(rootframe, 0., 0., 1.))\n",
    "add_environment_primitive!(mechanism, ground);"
   ]
  },
  {
   "cell_type": "code",
   "execution_count": null,
   "metadata": {},
   "outputs": [],
   "source": [
    "struct StandingController{M<:MomentumBasedController}\n",
    "    lowlevel::M\n",
    "    robotmass::Float64\n",
    "\n",
    "    foottasks::Dict{RigidBody{Float64}, SpatialAccelerationTask}\n",
    "    linmomtask::LinearMomentumRateTask\n",
    "    pelvistask::AngularAccelerationTask\n",
    "    jointtasks::Dict{JointID, JointAccelerationTask{Revolute{Float64}}}\n",
    "\n",
    "    comgains::PDGains{Float64,Float64}\n",
    "    pelvisgains::PDGains{Float64,Float64}\n",
    "    jointgains::Dict{JointID, PDGains{Float64, Float64}}\n",
    "\n",
    "    comref::Point3D{SVector{3, Float64}}\n",
    "    jointrefs::Dict{JointID, Float64}\n",
    "end"
   ]
  },
  {
   "cell_type": "code",
   "execution_count": null,
   "metadata": {},
   "outputs": [],
   "source": [
    "function StandingController(\n",
    "        lowlevel::MomentumBasedController,\n",
    "        feet::Vector{<:RigidBody},\n",
    "        pelvis::RigidBody,\n",
    "        nominalstate::MechanismState)\n",
    "    mechanism = lowlevel.state.mechanism\n",
    "    world = root_body(mechanism)\n",
    "    worldframe = root_frame(mechanism)\n",
    "    m = mass(mechanism)\n",
    "    \n",
    "    regularize!.(lowlevel, tree_joints(mechanism), 0.05)\n",
    "    \n",
    "    # tasks\n",
    "    foottasks = Dict(foot => SpatialAccelerationTask(mechanism, path(mechanism, world, foot)) for foot in feet)\n",
    "    addtask!.(lowlevel, collect(values(foottasks)))\n",
    "    \n",
    "    linmomtask = LinearMomentumRateTask(mechanism, centroidal_frame(lowlevel))\n",
    "    addtask!(lowlevel, linmomtask, 1.0)\n",
    "    \n",
    "    pelvistask = AngularAccelerationTask(mechanism, path(mechanism, world, pelvis))\n",
    "    addtask!(lowlevel, pelvistask)\n",
    "\n",
    "    revolutejoints = filter(j -> joint_type(j) isa Revolute, tree_joints(mechanism))\n",
    "    positioncontroljoints = setdiff(revolutejoints, vcat((collect(task.path) for task in values(foottasks))...))\n",
    "    jointtasks = Dict(JointID(j) => JointAccelerationTask(j) for j in positioncontroljoints)\n",
    "    addtask!.(lowlevel, collect(values(jointtasks)))\n",
    "    \n",
    "    # gains\n",
    "    comgains = PDGains(10., 2 * sqrt(10.0))\n",
    "    pelvisgains = PDGains(20., 2 * sqrt(20.0))\n",
    "    jointgains = Dict(jointid => PDGains(100.0, 20.) for jointid in keys(jointtasks))\n",
    "    \n",
    "    # references\n",
    "    comref = center_of_mass(nominalstate) - FreeVector3D(worldframe, 0., 0., 0.05)\n",
    "    jointrefs = Dict(jointid => configuration(nominalstate, jointid)[1] for jointid in keys(jointtasks))\n",
    "    \n",
    "    StandingController(\n",
    "        lowlevel, m,\n",
    "        foottasks, linmomtask, pelvistask, jointtasks,\n",
    "        comgains, pelvisgains, jointgains,\n",
    "        comref, jointrefs)\n",
    "end"
   ]
  },
  {
   "cell_type": "code",
   "execution_count": null,
   "metadata": {},
   "outputs": [],
   "source": [
    "function (controller::StandingController)(τ::AbstractVector, t::Number, state::MechanismState)\n",
    "    # Linear momentum control\n",
    "    m = controller.robotmass\n",
    "    c = center_of_mass(state)\n",
    "    centroidal = centroidal_frame(controller.lowlevel)\n",
    "    world_to_centroidal = Transform3D(c.frame, centroidal, -c.v)\n",
    "    e = FreeVector3D(centroidal, -transform(controller.comref, world_to_centroidal).v)\n",
    "    ė = FreeVector3D(centroidal, linear(transform(momentum(state), world_to_centroidal)) / m)\n",
    "    c̈ = pd(controller.comgains, e, ė)\n",
    "    setdesired!(controller.linmomtask, m * c̈)\n",
    "    \n",
    "    # Pelvis orientation control\n",
    "    pelvistask = controller.pelvistask\n",
    "    pelvisgains = controller.pelvisgains\n",
    "    pelvis = target(pelvistask.path)\n",
    "    Hpelvis = transform_to_root(state, pelvis)\n",
    "    Tpelvis = transform(twist_wrt_world(state, pelvis), inv(Hpelvis))\n",
    "    ωdesired = FreeVector3D(Tpelvis.frame, pd(pelvisgains, rotation(Hpelvis), Tpelvis.angular))\n",
    "    setdesired!(pelvistask, ωdesired)\n",
    "    \n",
    "    # Joint position control\n",
    "    for jointid in keys(controller.jointtasks)\n",
    "        task = controller.jointtasks[jointid]\n",
    "        gains = controller.jointgains[jointid]\n",
    "        ref = controller.jointrefs[jointid]\n",
    "        v̇desired = pd(gains, configuration(state, jointid)[1], ref, velocity(state, jointid)[1], 0.0)\n",
    "        setdesired!(task, v̇desired)\n",
    "    end\n",
    "    \n",
    "    controller.lowlevel(τ, t, state)\n",
    "    τ\n",
    "end"
   ]
  },
  {
   "cell_type": "code",
   "execution_count": null,
   "metadata": {},
   "outputs": [],
   "source": [
    "# create optimizer\n",
    "using MathOptInterface\n",
    "using OSQP.MathOptInterfaceOSQP\n",
    "const MOI = MathOptInterface\n",
    "optimizer = OSQPOptimizer()\n",
    "MOI.set!(optimizer, OSQPSettings.Verbose(), false)\n",
    "MOI.set!(optimizer, OSQPSettings.EpsAbs(), 1e-5)\n",
    "MOI.set!(optimizer, OSQPSettings.EpsRel(), 1e-5)\n",
    "MOI.set!(optimizer, OSQPSettings.MaxIter(), 5000)\n",
    "MOI.set!(optimizer, OSQPSettings.AdaptiveRhoInterval(), 25) # required for deterministic behavior"
   ]
  },
  {
   "cell_type": "code",
   "execution_count": null,
   "metadata": {},
   "outputs": [],
   "source": [
    "# create low level controller\n",
    "num_basis_vectors = 4\n",
    "lowlevel = MomentumBasedController{num_basis_vectors}(mechanism, optimizer);\n",
    "for body in bodies(mechanism)\n",
    "    for point in RigidBodyDynamics.contact_points(body)\n",
    "        position = location(point)\n",
    "        normal = FreeVector3D(default_frame(body), 0.0, 0.0, 1.0)\n",
    "        μ = point.model.friction.μ\n",
    "        contact = addcontact!(lowlevel, body, position, normal, μ)\n",
    "        contact.maxnormalforce = 1e6 # TODO\n",
    "        contact.weight = 1e-3\n",
    "    end\n",
    "end"
   ]
  },
  {
   "cell_type": "code",
   "execution_count": null,
   "metadata": {},
   "outputs": [],
   "source": [
    "# state initialization\n",
    "function initialize!(state::MechanismState)\n",
    "    mechanism = state.mechanism\n",
    "    zero!(state)\n",
    "    kneebend = 1.1\n",
    "    hipbendextra = 0.1\n",
    "    for sideprefix in ('l', 'r')\n",
    "        knee = findjoint(mechanism, \"$(sideprefix)_leg_kny\")\n",
    "        hippitch = findjoint(mechanism, \"$(sideprefix)_leg_hpy\")\n",
    "        anklepitch = findjoint(mechanism, \"$(sideprefix)_leg_aky\")\n",
    "        set_configuration!(state, knee, [kneebend])\n",
    "        set_configuration!(state, hippitch, [-kneebend / 2 + hipbendextra])\n",
    "        set_configuration!(state, anklepitch, [-kneebend / 2 - hipbendextra])\n",
    "    end\n",
    "    floatingjoint = first(out_joints(root_body(mechanism), mechanism))\n",
    "    set_configuration!(state, floatingjoint, [1; 0; 0; 0; 0; 0; 0.85])\n",
    "    state\n",
    "end"
   ]
  },
  {
   "cell_type": "code",
   "execution_count": null,
   "metadata": {},
   "outputs": [],
   "source": [
    "# create standing controller\n",
    "feet = findbody.(mechanism, [\"l_foot\", \"r_foot\"])\n",
    "pelvis = findbody(mechanism, \"pelvis\")\n",
    "nominalstate = MechanismState(mechanism)\n",
    "initialize!(nominalstate)\n",
    "controller = StandingController(lowlevel, feet, pelvis, nominalstate);"
   ]
  },
  {
   "cell_type": "code",
   "execution_count": null,
   "metadata": {
    "scrolled": true
   },
   "outputs": [],
   "source": [
    "state = MechanismState(mechanism)\n",
    "initialize!(state)\n",
    "τ = similar(velocity(state));\n",
    "benchresult = @benchmark controller($τ, 0.0, $state)\n",
    "@test benchresult.allocs == 0\n",
    "benchresult"
   ]
  },
  {
   "cell_type": "code",
   "execution_count": null,
   "metadata": {},
   "outputs": [],
   "source": [
    "# function test(τ, state, n)\n",
    "#     for i = 1 : n\n",
    "#         controller(τ, 0.0, state)\n",
    "#     end\n",
    "# end\n",
    "# test(τ, state, 1)\n",
    "# Profile.clear()\n",
    "# @profile test(τ, state, 10000)\n",
    "# using ProfileView\n",
    "# ProfileView.view()"
   ]
  },
  {
   "cell_type": "code",
   "execution_count": null,
   "metadata": {},
   "outputs": [],
   "source": [
    "#NBSKIP\n",
    "# set up visualizer\n",
    "using MeshCat\n",
    "using MeshCatMechanisms\n",
    "if !isdefined(:vis)\n",
    "    vis = Visualizer()[:atlas]\n",
    "    visuals = URDFVisuals(AtlasRobot.urdfpath(); package_path = [AtlasRobot.packagepath()])\n",
    "    mvis = MechanismVisualizer(mechanism, visuals, vis)\n",
    "    set_configuration!(mvis, configuration(nominalstate))\n",
    "    open(mvis)\n",
    "    wait(mvis)\n",
    "end"
   ]
  },
  {
   "cell_type": "code",
   "execution_count": null,
   "metadata": {},
   "outputs": [],
   "source": [
    "# simulate\n",
    "state = MechanismState(mechanism)\n",
    "initialize!(state)\n",
    "Δt = 1 / 500\n",
    "pcontroller = PeriodicController(similar(velocity(state)), Δt, controller)\n",
    "# TODO: add damping\n",
    "dynamics = Dynamics(mechanism, pcontroller)\n",
    "problem = ODEProblem(dynamics, state, (0., 10.))"
   ]
  },
  {
   "cell_type": "code",
   "execution_count": null,
   "metadata": {},
   "outputs": [],
   "source": [
    "sol = solve(problem, Tsit5(), abs_tol = 1e-8, dt = 1e-6)\n",
    "@time sol = solve(problem, Tsit5(), abs_tol = 1e-8, dt = 1e-6)\n",
    "@test sol.retcode == :Success\n",
    "copyto!(state, last(sol.u))\n",
    "@test norm(velocity(state)) ≈ 0 atol=1e-8\n",
    "@test center_of_mass(state).v[3] > 1"
   ]
  },
  {
   "cell_type": "code",
   "execution_count": null,
   "metadata": {},
   "outputs": [],
   "source": [
    "#NBSKIP\n",
    "RigidBodySim.animate(mvis, state, sol)"
   ]
  }
 ],
 "metadata": {
  "kernelspec": {
   "display_name": "Julia 0.6.3",
   "language": "julia",
   "name": "julia-0.6"
  },
  "language_info": {
   "file_extension": ".jl",
   "mimetype": "application/julia",
   "name": "julia",
   "version": "0.6.3"
  }
 },
 "nbformat": 4,
 "nbformat_minor": 2
}
