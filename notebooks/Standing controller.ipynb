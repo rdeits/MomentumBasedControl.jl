{
 "cells": [
  {
   "cell_type": "code",
   "execution_count": 1,
   "metadata": {},
   "outputs": [],
   "source": [
    "using Compat\n",
    "using MomentumBasedControl\n",
    "using RigidBodyDynamics\n",
    "using RigidBodyDynamics.PDControl\n",
    "using RigidBodyDynamics.Contact\n",
    "using StaticArrays\n",
    "using AtlasRobot\n",
    "\n",
    "import RigidBodyDynamics.Graphs: target"
   ]
  },
  {
   "cell_type": "code",
   "execution_count": 2,
   "metadata": {},
   "outputs": [],
   "source": [
    "# load URDF\n",
    "mechanism = AtlasRobot.mechanism()\n",
    "remove_fixed_tree_joints!(mechanism);"
   ]
  },
  {
   "cell_type": "code",
   "execution_count": 3,
   "metadata": {},
   "outputs": [],
   "source": [
    "# add environment\n",
    "rootframe = root_frame(mechanism)\n",
    "ground = HalfSpace3D(Point3D(rootframe, 0., 0., 0.), FreeVector3D(rootframe, 0., 0., 1.))\n",
    "add_environment_primitive!(mechanism, ground);"
   ]
  },
  {
   "cell_type": "code",
   "execution_count": 4,
   "metadata": {},
   "outputs": [],
   "source": [
    "struct StandingController{M<:MomentumBasedController}\n",
    "    lowlevel::M\n",
    "    robotmass::Float64\n",
    "\n",
    "    foottasks::Dict{RigidBody{Float64}, SpatialAccelerationTask}\n",
    "    comtask::LinearMomentumRateTask\n",
    "    pelvistask::AngularAccelerationTask\n",
    "    jointtasks::Dict{JointID, JointAccelerationTask{Revolute{Float64}}}\n",
    "\n",
    "    comgains::PDGains{Float64,Float64}\n",
    "    pelvisgains::PDGains{Float64,Float64}\n",
    "    jointgains::Dict{JointID, PDGains{Float64, Float64}}\n",
    "\n",
    "    comref::Point3D{SVector{3, Float64}}\n",
    "    jointrefs::Dict{JointID, Float64}\n",
    "end"
   ]
  },
  {
   "cell_type": "code",
   "execution_count": 5,
   "metadata": {},
   "outputs": [
    {
     "data": {
      "text/plain": [
       "StandingController"
      ]
     },
     "execution_count": 5,
     "metadata": {},
     "output_type": "execute_result"
    }
   ],
   "source": [
    "function StandingController(\n",
    "        lowlevel::MomentumBasedController,\n",
    "        feet::Vector{<:RigidBody},\n",
    "        pelvis::RigidBody,\n",
    "        nominalstate::MechanismState)\n",
    "    mechanism = lowlevel.state.mechanism\n",
    "    world = root_body(mechanism)\n",
    "    m = mass(mechanism)\n",
    "    \n",
    "    # tasks\n",
    "    foottasks = Dict(foot => SpatialAccelerationTask(mechanism, path(mechanism, world, foot)) for foot in feet)\n",
    "    addtask!.(lowlevel, collect(values(foottasks)))\n",
    "    \n",
    "    comtask = LinearMomentumRateTask(mechanism, centroidal_frame(lowlevel))\n",
    "    addtask!(lowlevel, comtask)\n",
    "    \n",
    "    pelvistask = AngularAccelerationTask(mechanism, path(mechanism, world, pelvis))\n",
    "    addtask!(lowlevel, pelvistask)\n",
    "\n",
    "    revolutejoints = filter(j -> joint_type(j) isa Revolute, tree_joints(mechanism))\n",
    "    legjoints = vcat(collect(task.path) for task in foottasks)\n",
    "    positioncontroljoints = setdiff(revolutejoints, legjoints)\n",
    "    jointtasks = Dict(JointID(j) => JointAccelerationTask(j) for j in positioncontroljoints)\n",
    "    addtask!.(lowlevel, collect(values(jointtasks)))\n",
    "    \n",
    "    # gains\n",
    "    comgains = PDGains(10., 3.)\n",
    "    pelvisgains = PDGains(10., 2.)\n",
    "    jointgains = Dict(jointid => PDGains(100.0, 20.) for jointid in keys(jointtasks))\n",
    "    \n",
    "    # references\n",
    "    comref = center_of_mass(nominalstate)\n",
    "    jointrefs = Dict(jointid => configuration(nominalstate, jointid)[1] for jointid in keys(jointtasks))\n",
    "    \n",
    "    StandingController(\n",
    "        lowlevel, m,\n",
    "        foottasks, comtask, pelvistask, jointtasks,\n",
    "        comgains, pelvisgains, jointgains,\n",
    "        comref, jointrefs)\n",
    "end"
   ]
  },
  {
   "cell_type": "code",
   "execution_count": 14,
   "metadata": {},
   "outputs": [],
   "source": [
    "function (controller::StandingController)(τ::AbstractVector, t::Number, state::MechanismState)\n",
    "    # Linear momentum control\n",
    "    com = center_of_mass(state)\n",
    "    centroidal = centroidal_frame(controller.lowlevel)\n",
    "    centroidal_to_world = Transform3D(centroidal, com.frame, com.v)\n",
    "    world_to_centroidal = inv(centroidal_to_world)\n",
    "    e = FreeVector3D(centroidal, transform(controller.comref, world_to_centroidal).v)\n",
    "    ė = FreeVector3D(centroidal, linear(transform(momentum(state), world_to_centroidal)) / controller.robotmass)\n",
    "    setdesired!(controller.comtask, pd(controller.comgains, e, ė))\n",
    "    \n",
    "    # Pelvis orientation control\n",
    "    pelvistask = controller.pelvistask\n",
    "    pelvisgains = controller.pelvisgains\n",
    "    pelvis = target(pelvistask.path)\n",
    "    Hpelvis = transform_to_root(state, pelvis)\n",
    "    Tpelvis = transform(twist_wrt_world(state, pelvis), inv(Hpelvis))\n",
    "    ωdesired = FreeVector3D(Tpelvis.frame, pd(pelvisgains, rotation(Hpelvis), Tpelvis.angular))\n",
    "    setdesired!(pelvistask, ωdesired)\n",
    "    \n",
    "    # Joint position control\n",
    "    for jointid in keys(controller.jointtasks)\n",
    "        task = controller.jointtasks[jointid]\n",
    "        gains = controller.jointgains[jointid]\n",
    "        ref = controller.jointrefs[jointid]\n",
    "        v̇desired = pd(gains, configuration(state, jointid)[1], ref, velocity(state, jointid)[1], 0.0)\n",
    "        setdesired!(task, v̇desired)\n",
    "    end\n",
    "    \n",
    "    controller.lowlevel(τ, t, state)\n",
    "end"
   ]
  },
  {
   "cell_type": "code",
   "execution_count": 7,
   "metadata": {},
   "outputs": [],
   "source": [
    "# create optimizer\n",
    "using OSQP.MathOptInterfaceOSQP\n",
    "MOI = MathOptInterface\n",
    "optimizer = OSQPOptimizer()\n",
    "MOI.set!(optimizer, OSQPSettings.Verbose(), false)\n",
    "MOI.set!(optimizer, OSQPSettings.EpsAbs(), 1e-8)\n",
    "MOI.set!(optimizer, OSQPSettings.EpsRel(), 1e-16)\n",
    "MOI.set!(optimizer, OSQPSettings.MaxIter(), 10000)\n",
    "MOI.set!(optimizer, OSQPSettings.AdaptiveRhoInterval(), 25) # required for deterministic behavior"
   ]
  },
  {
   "cell_type": "code",
   "execution_count": 8,
   "metadata": {},
   "outputs": [],
   "source": [
    "# create low level controller\n",
    "num_basis_vectors = 4\n",
    "lowlevel = MomentumBasedController{num_basis_vectors}(mechanism, optimizer);\n",
    "for body in bodies(mechanism)\n",
    "    for point in RigidBodyDynamics.contact_points(body)\n",
    "        position = location(point)\n",
    "        normal = FreeVector3D(default_frame(body), 0.0, 0.0, 1.0)\n",
    "        μ = point.model.friction.μ\n",
    "        contact = addcontact!(lowlevel, body, position, normal, μ)\n",
    "        contact.maxnormalforce = 1e9 # TODO\n",
    "    end\n",
    "end"
   ]
  },
  {
   "cell_type": "code",
   "execution_count": 9,
   "metadata": {},
   "outputs": [
    {
     "data": {
      "text/plain": [
       "initialize! (generic function with 1 method)"
      ]
     },
     "execution_count": 9,
     "metadata": {},
     "output_type": "execute_result"
    }
   ],
   "source": [
    "# state initialization\n",
    "function initialize!(state::MechanismState)\n",
    "    mechanism = state.mechanism\n",
    "    zero!(state)\n",
    "    kneebend = 1.1\n",
    "    hipbendextra = 0.1\n",
    "    for sideprefix in ('l', 'r')\n",
    "        knee = findjoint(mechanism, \"$(sideprefix)_leg_kny\")\n",
    "        hippitch = findjoint(mechanism, \"$(sideprefix)_leg_hpy\")\n",
    "        anklepitch = findjoint(mechanism, \"$(sideprefix)_leg_aky\")\n",
    "        set_configuration!(state, knee, [kneebend])\n",
    "        set_configuration!(state, hippitch, [-kneebend / 2 + hipbendextra])\n",
    "        set_configuration!(state, anklepitch, [-kneebend / 2 - hipbendextra])\n",
    "    end\n",
    "    floatingjoint = first(out_joints(root_body(mechanism), mechanism))\n",
    "    set_configuration!(state, floatingjoint, [1; 0; 0; 0; 0; 0; 0.85])\n",
    "    state\n",
    "end"
   ]
  },
  {
   "cell_type": "code",
   "execution_count": 10,
   "metadata": {},
   "outputs": [],
   "source": [
    "# create standing controller\n",
    "feet = findbody.(mechanism, [\"l_foot\", \"r_foot\"])\n",
    "pelvis = findbody(mechanism, \"pelvis\")\n",
    "nominalstate = MechanismState(mechanism)\n",
    "initialize!(nominalstate)\n",
    "controller = StandingController(lowlevel, feet, pelvis, nominalstate);"
   ]
  },
  {
   "cell_type": "code",
   "execution_count": 17,
   "metadata": {},
   "outputs": [],
   "source": [
    "state = MechanismState(mechanism)\n",
    "initialize!(state)\n",
    "τ = similar(velocity(state))\n",
    "controller(τ, 0.0, state)"
   ]
  },
  {
   "cell_type": "code",
   "execution_count": 18,
   "metadata": {},
   "outputs": [
    {
     "data": {
      "text/html": [
       "    <script class='js-collapse-script'>\n",
       "        var curMatch =\n",
       "            window.location.href\n",
       "            .match(/(.*?)\\/notebooks\\/.*\\.ipynb/);\n",
       "\n",
       "        curMatch = curMatch ||\n",
       "            window.location.href\n",
       "            .match(/(.*?)\\/apps\\/.*\\.ipynb/);\n",
       "\n",
       "        if ( curMatch ) {\n",
       "            $('head').append('<base href=\"' + curMatch[1] + '/\">');\n",
       "        }\n",
       "    </script>\n"
      ],
      "text/plain": [
       "HTML{String}(\"    <script class='js-collapse-script'>\\n        var curMatch =\\n            window.location.href\\n            .match(/(.*?)\\\\/notebooks\\\\/.*\\\\.ipynb/);\\n\\n        curMatch = curMatch ||\\n            window.location.href\\n            .match(/(.*?)\\\\/apps\\\\/.*\\\\.ipynb/);\\n\\n        if ( curMatch ) {\\n            \\$('head').append('<base href=\\\"' + curMatch[1] + '/\\\">');\\n        }\\n    </script>\\n\")"
      ]
     },
     "metadata": {},
     "output_type": "display_data"
    },
    {
     "data": {
      "text/html": [
       "<script class='js-collapse-script' src='/assetserver/08b76a9f0aa6406b9b54525b8451334ac21dd778-assets/webio/dist/bundle.js'></script>"
      ],
      "text/plain": [
       "HTML{String}(\"<script class='js-collapse-script' src='/assetserver/08b76a9f0aa6406b9b54525b8451334ac21dd778-assets/webio/dist/bundle.js'></script>\")"
      ]
     },
     "metadata": {},
     "output_type": "display_data"
    },
    {
     "data": {
      "text/html": [
       "<script class='js-collapse-script' src='/assetserver/08b76a9f0aa6406b9b54525b8451334ac21dd778-assets/providers/ijulia_setup.js'></script>"
      ],
      "text/plain": [
       "HTML{String}(\"<script class='js-collapse-script' src='/assetserver/08b76a9f0aa6406b9b54525b8451334ac21dd778-assets/providers/ijulia_setup.js'></script>\")"
      ]
     },
     "metadata": {},
     "output_type": "display_data"
    },
    {
     "data": {
      "text/html": [
       "  <script class='js-collapse-script'>\n",
       "    $('.js-collapse-script').parent('.output_subarea').css('padding', '0');\n",
       "  </script>\n"
      ],
      "text/plain": [
       "HTML{String}(\"  <script class='js-collapse-script'>\\n    \\$('.js-collapse-script').parent('.output_subarea').css('padding', '0');\\n  </script>\\n\")"
      ]
     },
     "metadata": {},
     "output_type": "display_data"
    },
    {
     "name": "stderr",
     "output_type": "stream",
     "text": [
      "\u001b[1m\u001b[36mINFO: \u001b[39m\u001b[22m\u001b[36mLoading HttpServer methods...\n",
      "\u001b[39m"
     ]
    },
    {
     "data": {
      "text/html": [
       "<div class='display:none'></div><unsafe-script style='display:none'>\n",
       "WebIO.mount(this.previousSibling,{&quot;props&quot;:{},&quot;nodeType&quot;:&quot;Scope&quot;,&quot;type&quot;:&quot;node&quot;,&quot;instanceArgs&quot;:{&quot;imports&quot;:{&quot;data&quot;:[],&quot;type&quot;:&quot;async_block&quot;},&quot;id&quot;:&quot;scope-9c7a90ce-bfb3-4e9c-bc84-70555902a814&quot;,&quot;handlers&quot;:{&quot;_promises&quot;:{&quot;importsLoaded&quot;:[function () {\n",
       "    var frame = this.dom.querySelector(&quot;#ifr&quot;);\n",
       "    var doc = frame.contentDocument\n",
       "    var win = frame.contentWindow\n",
       "\n",
       "    // Determine if we&#39;re running on a Jupyter hosting service\n",
       "    // that requires a base URL when retrieving assets\n",
       "    var curMatch =\n",
       "        window.location.href\n",
       "        .match(/(.*?)\\/notebooks\\/.*\\.ipynb/);\n",
       "    curMatch = curMatch ||\n",
       "        window.location.href\n",
       "        .match(/(.*?)\\/apps\\/.*\\.ipynb/);\n",
       "    if (curMatch) {\n",
       "        var base = doc.createElement(&quot;base&quot;);\n",
       "        base.setAttribute(&quot;href&quot;, curMatch[1] + &#39;/&#39;);\n",
       "        doc.head.appendChild(base);\n",
       "    }\n",
       "\n",
       "    var webio = doc.createElement(&quot;script&quot;)\n",
       "    webio.src = &quot;pkg/WebIO/webio/dist/bundle.js&quot;\n",
       "    var parent = window\n",
       "\n",
       "    function resizeIframe() {\n",
       "        doc.body.style.padding = &#39;0&#39;\n",
       "        doc.body.style.margin = &#39;0&#39;\n",
       "        doc.documentElement.height = &#39;100%&#39;\n",
       "        doc.body.height = &#39;100%&#39;\n",
       "    }\n",
       "\n",
       "    webio.onload = function () {\n",
       "        win.WebIO.sendCallback = parent.WebIO.sendCallback; // Share stuff\n",
       "        win.WebIO.scopes = parent.WebIO.scopes\n",
       "        win.WebIO.obsscopes = parent.WebIO.obsscopes\n",
       "        win.WebIO._connected = true\n",
       "        doc.body.innerHTML = &quot;&lt;html&gt;&lt;body&gt;&quot; + &quot;&lt;div class=&#39;display:none&#39;&gt;&lt;/div&gt;&lt;unsafe-script style=&#39;display:none&#39;&gt;\\nWebIO.mount(this.previousSibling,{&amp;quot;props&amp;quot;:{},&amp;quot;nodeType&amp;quot;:&amp;quot;Scope&amp;quot;,&amp;quot;type&amp;quot;:&amp;quot;node&amp;quot;,&amp;quot;instanceArgs&amp;quot;:{&amp;quot;imports&amp;quot;:{&amp;quot;data&amp;quot;:[{&amp;quot;name&amp;quot;:null,&amp;quot;type&amp;quot;:&amp;quot;js&amp;quot;,&amp;quot;url&amp;quot;:&amp;quot;pkg/MeshCat/meshcat/dist/main.min.js&amp;quot;}],&amp;quot;type&amp;quot;:&amp;quot;async_block&amp;quot;},&amp;quot;id&amp;quot;:&amp;quot;scope-f8dd2001-a485-4bda-b917-c5d5b44ec4bc&amp;quot;,&amp;quot;handlers&amp;quot;:{&amp;quot;meshcat-command&amp;quot;:[(function (val){return this.viewer.handle_command_message({&amp;quot;data&amp;quot;:val})})],&amp;quot;_promises&amp;quot;:{&amp;quot;importsLoaded&amp;quot;:[(function (mc){var element=this.dom.children[0]; this.viewer=new mc.Viewer(element); WebIO.setval({&amp;quot;name&amp;quot;:&amp;quot;meshcat-request&amp;quot;,&amp;quot;scope&amp;quot;:&amp;quot;scope-f8dd2001-a485-4bda-b917-c5d5b44ec4bc&amp;quot;,&amp;quot;id&amp;quot;:&amp;quot;ob_02&amp;quot;,&amp;quot;type&amp;quot;:&amp;quot;observable&amp;quot;},String(Date.now())); return window.document.body.style.margin=&amp;quot;0&amp;quot;})]}},&amp;quot;systemjs_options&amp;quot;:null,&amp;quot;observables&amp;quot;:{&amp;quot;meshcat-command&amp;quot;:{&amp;quot;sync&amp;quot;:false,&amp;quot;id&amp;quot;:&amp;quot;ob_01&amp;quot;,&amp;quot;value&amp;quot;:[131,166,109,97,116,114,105,120,199,64,23,0,0,128,63,0,0,0,0,0,0,0,0,0,0,0,0,0,0,0,0,0,0,128,63,0,0,0,0,0,0,0,0,0,0,0,0,0,0,0,0,0,0,128,63,0,0,0,0,0,0,0,0,0,0,0,0,0,0,0,0,0,0,128,63,164,116,121,112,101,173,115,101,116,95,116,114,97,110,115,102,111,114,109,164,112,97,116,104,218,0,99,47,109,101,115,104,99,97,116,47,97,116,108,97,115,47,119,111,114,108,100,47,112,101,108,118,105,115,47,108,116,111,114,115,111,47,109,116,111,114,115,111,47,117,116,111,114,115,111,47,114,95,99,108,97,118,47,114,95,115,99,97,112,47,114,95,117,97,114,109,47,114,95,108,97,114,109,47,114,95,117,102,97,114,109,47,114,95,108,102,97,114,109,47,114,95,104,97,110,100]},&amp;quot;meshcat-controls&amp;quot;:{&amp;quot;sync&amp;quot;:true,&amp;quot;id&amp;quot;:&amp;quot;ob_03&amp;quot;,&amp;quot;value&amp;quot;:[]},&amp;quot;meshcat-request&amp;quot;:{&amp;quot;sync&amp;quot;:true,&amp;quot;id&amp;quot;:&amp;quot;ob_02&amp;quot;,&amp;quot;value&amp;quot;:&amp;quot;&amp;quot;}}},&amp;quot;children&amp;quot;:[{&amp;quot;props&amp;quot;:{&amp;quot;className&amp;quot;:&amp;quot;meshcat-viewer&amp;quot;,&amp;quot;style&amp;quot;:{&amp;quot;left&amp;quot;:0,&amp;quot;right&amp;quot;:0,&amp;quot;overflow&amp;quot;:&amp;quot;hidden&amp;quot;,&amp;quot;position&amp;quot;:&amp;quot;absolute&amp;quot;,&amp;quot;height&amp;quot;:&amp;quot;100vh&amp;quot;,&amp;quot;margin&amp;quot;:0,&amp;quot;width&amp;quot;:&amp;quot;100vw&amp;quot;}},&amp;quot;nodeType&amp;quot;:&amp;quot;DOM&amp;quot;,&amp;quot;type&amp;quot;:&amp;quot;node&amp;quot;,&amp;quot;instanceArgs&amp;quot;:{&amp;quot;namespace&amp;quot;:&amp;quot;html&amp;quot;,&amp;quot;tag&amp;quot;:&amp;quot;div&amp;quot;},&amp;quot;children&amp;quot;:[]}]})&lt;/unsafe-script&gt;&quot; + &quot;&lt;/body&gt;&lt;/html&gt;&quot;;\n",
       "        setTimeout(function () { resizeIframe() }, 0)\n",
       "    }\n",
       "\n",
       "    doc.body.appendChild(webio)\n",
       "},(function (){return this.dom.style.height=&quot;100%&quot;})]}},&quot;systemjs_options&quot;:null,&quot;observables&quot;:{}},&quot;children&quot;:[{&quot;props&quot;:{&quot;style&quot;:{&quot;flexDirection&quot;:&quot;column&quot;,&quot;height&quot;:&quot;100%&quot;,&quot;minHeight&quot;:&quot;400px&quot;,&quot;display&quot;:&quot;flex&quot;,&quot;width&quot;:&quot;100%&quot;,&quot;overflow&quot;:&quot;hidden&quot;}},&quot;nodeType&quot;:&quot;DOM&quot;,&quot;type&quot;:&quot;node&quot;,&quot;instanceArgs&quot;:{&quot;namespace&quot;:&quot;html&quot;,&quot;tag&quot;:&quot;div&quot;},&quot;children&quot;:[{&quot;props&quot;:{&quot;attributes&quot;:{&quot;height&quot;:&quot;100%&quot;,&quot;scrolling&quot;:&quot;no&quot;,&quot;src&quot;:&quot;javascript:void(0)&quot;,&quot;frameborder&quot;:0},&quot;id&quot;:&quot;ifr&quot;,&quot;style&quot;:{&quot;width&quot;:&quot;100%&quot;,&quot;flexGrow&quot;:&quot;1&quot;}},&quot;nodeType&quot;:&quot;DOM&quot;,&quot;type&quot;:&quot;node&quot;,&quot;instanceArgs&quot;:{&quot;namespace&quot;:&quot;html&quot;,&quot;tag&quot;:&quot;iframe&quot;},&quot;children&quot;:[]}]}]})</unsafe-script>"
      ],
      "text/plain": [
       "WebIO.Scope(\"scope-9c7a90ce-bfb3-4e9c-bc84-70555902a814\", WebIO.Node{WebIO.DOM}(WebIO.DOM(:html, :div), Any[WebIO.Node{WebIO.DOM}(WebIO.DOM(:html, :iframe), Any[], Dict{Symbol,Any}(Pair{Symbol,Any}(:attributes, Dict{String,Any}(Pair{String,Any}(\"height\", \"100%\"),Pair{String,Any}(\"scrolling\", \"no\"),Pair{String,Any}(\"src\", \"javascript:void(0)\"),Pair{String,Any}(\"frameborder\", 0))),Pair{Symbol,Any}(:id, \"ifr\"),Pair{Symbol,Any}(:style, Dict(\"width\"=>\"100%\",\"flexGrow\"=>\"1\"))), 0)], Dict{Symbol,Any}(Pair{Symbol,Any}(:style, Dict(\"flexDirection\"=>\"column\",\"height\"=>\"100%\",\"minHeight\"=>\"400px\",\"display\"=>\"flex\",\"width\"=>\"100%\",\"overflow\"=>\"hidden\"))), 1), Dict{String,Tuple{Observables.Observable,Union{Bool, Void}}}(), Set{String}(), nothing, Any[], Dict{Any,Any}(Pair{Any,Any}(\"_promises\", Dict{Any,Any}(Pair{Any,Any}(\"importsLoaded\", Any[WebIO.JSString(\"function () {\\n    var frame = this.dom.querySelector(\\\"#ifr\\\");\\n    var doc = frame.contentDocument\\n    var win = frame.contentWindow\\n\\n    // Determine if we're running on a Jupyter hosting service\\n    // that requires a base URL when retrieving assets\\n    var curMatch =\\n        window.location.href\\n        .match(/(.*?)\\\\/notebooks\\\\/.*\\\\.ipynb/);\\n    curMatch = curMatch ||\\n        window.location.href\\n        .match(/(.*?)\\\\/apps\\\\/.*\\\\.ipynb/);\\n    if (curMatch) {\\n        var base = doc.createElement(\\\"base\\\");\\n        base.setAttribute(\\\"href\\\", curMatch[1] + '/');\\n        doc.head.appendChild(base);\\n    }\\n\\n    var webio = doc.createElement(\\\"script\\\")\\n    webio.src = \\\"pkg/WebIO/webio/dist/bundle.js\\\"\\n    var parent = window\\n\\n    function resizeIframe() {\\n        doc.body.style.padding = '0'\\n        doc.body.style.margin = '0'\\n        doc.documentElement.height = '100%'\\n        doc.body.height = '100%'\\n    }\\n\\n    webio.onload = function () {\\n        win.WebIO.sendCallback = parent.WebIO.sendCallback; // Share stuff\\n        win.WebIO.scopes = parent.WebIO.scopes\\n        win.WebIO.obsscopes = parent.WebIO.obsscopes\\n        win.WebIO._connected = true\\n        doc.body.innerHTML = \\\"<html><body>\\\" + \\\"<div class='display:none'></div><unsafe-script style='display:none'>\\\\nWebIO.mount(this.previousSibling,{&quot;props&quot;:{},&quot;nodeType&quot;:&quot;Scope&quot;,&quot;type&quot;:&quot;node&quot;,&quot;instanceArgs&quot;:{&quot;imports&quot;:{&quot;data&quot;:[{&quot;name&quot;:null,&quot;type&quot;:&quot;js&quot;,&quot;url&quot;:&quot;pkg/MeshCat/meshcat/dist/main.min.js&quot;}],&quot;type&quot;:&quot;async_block&quot;},&quot;id&quot;:&quot;scope-f8dd2001-a485-4bda-b917-c5d5b44ec4bc&quot;,&quot;handlers&quot;:{&quot;meshcat-command&quot;:[(function (val){return this.viewer.handle_command_message({&quot;data&quot;:val})})],&quot;_promises&quot;:{&quot;importsLoaded&quot;:[(function (mc){var element=this.dom.children[0]; this.viewer=new mc.Viewer(element); WebIO.setval({&quot;name&quot;:&quot;meshcat-request&quot;,&quot;scope&quot;:&quot;scope-f8dd2001-a485-4bda-b917-c5d5b44ec4bc&quot;,&quot;id&quot;:&quot;ob_02&quot;,&quot;type&quot;:&quot;observable&quot;},String(Date.now())); return window.document.body.style.margin=&quot;0&quot;})]}},&quot;systemjs_options&quot;:null,&quot;observables&quot;:{&quot;meshcat-command&quot;:{&quot;sync&quot;:false,&quot;id&quot;:&quot;ob_01&quot;,&quot;value&quot;:[131,166,109,97,116,114,105,120,199,64,23,0,0,128,63,0,0,0,0,0,0,0,0,0,0,0,0,0,0,0,0,0,0,128,63,0,0,0,0,0,0,0,0,0,0,0,0,0,0,0,0,0,0,128,63,0,0,0,0,0,0,0,0,0,0,0,0,0,0,0,0,0,0,128,63,164,116,121,112,101,173,115,101,116,95,116,114,97,110,115,102,111,114,109,164,112,97,116,104,218,0,99,47,109,101,115,104,99,97,116,47,97,116,108,97,115,47,119,111,114,108,100,47,112,101,108,118,105,115,47,108,116,111,114,115,111,47,109,116,111,114,115,111,47,117,116,111,114,115,111,47,114,95,99,108,97,118,47,114,95,115,99,97,112,47,114,95,117,97,114,109,47,114,95,108,97,114,109,47,114,95,117,102,97,114,109,47,114,95,108,102,97,114,109,47,114,95,104,97,110,100]},&quot;meshcat-controls&quot;:{&quot;sync&quot;:true,&quot;id&quot;:&quot;ob_03&quot;,&quot;value&quot;:[]},&quot;meshcat-request&quot;:{&quot;sync&quot;:true,&quot;id&quot;:&quot;ob_02&quot;,&quot;value&quot;:&quot;&quot;}}},&quot;children&quot;:[{&quot;props&quot;:{&quot;className&quot;:&quot;meshcat-viewer&quot;,&quot;style&quot;:{&quot;left&quot;:0,&quot;right&quot;:0,&quot;overflow&quot;:&quot;hidden&quot;,&quot;position&quot;:&quot;absolute&quot;,&quot;height&quot;:&quot;100vh&quot;,&quot;margin&quot;:0,&quot;width&quot;:&quot;100vw&quot;}},&quot;nodeType&quot;:&quot;DOM&quot;,&quot;type&quot;:&quot;node&quot;,&quot;instanceArgs&quot;:{&quot;namespace&quot;:&quot;html&quot;,&quot;tag&quot;:&quot;div&quot;},&quot;children&quot;:[]}]})</unsafe-script>\\\" + \\\"</body></html>\\\";\\n        setTimeout(function () { resizeIframe() }, 0)\\n    }\\n\\n    doc.body.appendChild(webio)\\n}\"), WebIO.JSString(\"(function (){return this.dom.style.height=\\\"100%\\\"})\")])))), WebIO.ConnectionPool(Channel{Any}(sz_max:9223372036854775807,sz_curr:0), Set{WebIO.AbstractConnection}(), Channel{WebIO.AbstractConnection}(sz_max:32,sz_curr:0)))"
      ]
     },
     "execution_count": 18,
     "metadata": {},
     "output_type": "execute_result"
    }
   ],
   "source": [
    "# set up visualizer\n",
    "using MeshCat\n",
    "using MeshCatMechanisms\n",
    "vis = Visualizer()[:atlas]\n",
    "visuals = URDFVisuals(AtlasRobot.urdfpath(); package_path = [AtlasRobot.packagepath()])\n",
    "mvis = MechanismVisualizer(mechanism, visuals, vis)\n",
    "set_configuration!(mvis, configuration(nominalstate))\n",
    "IJuliaCell(mvis)"
   ]
  },
  {
   "cell_type": "code",
   "execution_count": 20,
   "metadata": {},
   "outputs": [
    {
     "data": {
      "text/plain": [
       "DiffEqBase.ODEProblem with uType Array{Float64,1} and tType Float64. In-place: true\n",
       "timespan: (0.0, 1.0)\n",
       "u0: [1.0, 0.0, 0.0, 0.0, 0.0, 0.0, 0.85, 0.0, 0.0, 0.0  …  0.0, 0.0, 0.0, 0.0, 0.0, 0.0, 0.0, 0.0, 0.0, 0.0]"
      ]
     },
     "execution_count": 20,
     "metadata": {},
     "output_type": "execute_result"
    }
   ],
   "source": [
    "# simulate\n",
    "using RigidBodySim\n",
    "state = MechanismState(mechanism)\n",
    "initialize!(state)\n",
    "Δt = 0.003\n",
    "dynamics = Dynamics(mechanism, PeriodicController(similar(velocity(state)), Δt, controller))\n",
    "vis_callbacks = CallbackSet(mvis, state);\n",
    "problem = ODEProblem(dynamics, state, (0., 1.), callback = vis_callbacks);"
   ]
  },
  {
   "cell_type": "code",
   "execution_count": null,
   "metadata": {},
   "outputs": [],
   "source": [
    "@time sol = solve(problem, Tsit5(), abs_tol = 1e-10, dt = 0.05, callback = vis_callbacks)"
   ]
  },
  {
   "cell_type": "code",
   "execution_count": null,
   "metadata": {},
   "outputs": [],
   "source": []
  }
 ],
 "metadata": {
  "kernelspec": {
   "display_name": "Julia 0.6.3",
   "language": "julia",
   "name": "julia-0.6"
  },
  "language_info": {
   "file_extension": ".jl",
   "mimetype": "application/julia",
   "name": "julia",
   "version": "0.6.3"
  }
 },
 "nbformat": 4,
 "nbformat_minor": 2
}
