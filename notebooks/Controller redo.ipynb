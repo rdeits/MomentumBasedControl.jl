{
 "cells": [
  {
   "cell_type": "code",
   "execution_count": 10,
   "metadata": {},
   "outputs": [],
   "source": [
    "using Compat\n",
    "using MomentumBasedControl\n",
    "using RigidBodyDynamics\n",
    "using RigidBodyDynamics.Contact\n",
    "using AtlasRobot\n",
    "using TypeSortedCollections\n",
    "using MathOptInterface"
   ]
  },
  {
   "cell_type": "code",
   "execution_count": 11,
   "metadata": {},
   "outputs": [],
   "source": [
    "mechanism = AtlasRobot.mechanism()\n",
    "remove_fixed_tree_joints!(mechanism);"
   ]
  },
  {
   "cell_type": "code",
   "execution_count": 12,
   "metadata": {},
   "outputs": [],
   "source": [
    "# add environment\n",
    "rootframe = root_frame(mechanism)\n",
    "ground = HalfSpace3D(Point3D(rootframe, 0., 0., 0.), FreeVector3D(rootframe, 0., 0., 1.))\n",
    "add_environment_primitive!(mechanism, ground);"
   ]
  },
  {
   "cell_type": "code",
   "execution_count": 20,
   "metadata": {},
   "outputs": [],
   "source": [
    "const SparseSymmetric64 = Symmetric{Float64,SparseMatrixCSC{Float64,Int}}\n",
    "\n",
    "struct StandingController{N, L<:MomentumBasedController}\n",
    "    foottasks::Dict{Symbol, SpatialAccelerationTask}\n",
    "    pelvistask::SpatialAccelerationTask\n",
    "    jointtasks::Dict{JointAccelerationTask, SparseSymmetric64}\n",
    "    contactsettings::Dict{RigidBody{Float64}, Vector{ContactSettings{N}}}\n",
    "    lowlevel::L\n",
    "end\n",
    "\n",
    "function StandingController{N}(\n",
    "            mech::Mechanism,\n",
    "            optimizer::MathOptInterface.AbstractOptimizer,\n",
    "            feet::Dict{Symbol, RigidBodyDynamics.RigidBody{Float64}},\n",
    "            pelvis::RigidBody{Float64},\n",
    "            contactinfo::Dict{RigidBody{Float64}, Vector{ContactInfo}}) where N\n",
    "    world = root_body(mech)\n",
    "    revolutejoints = filter(j -> joint_type(j) isa Revolute, tree_joints(mech))\n",
    "    foottasks = Dict(side => SpatialAccelerationTask(mech, path(mech, world, foot)) for (side, foot) in feet)\n",
    "    pelvistask = SpatialAccelerationTask(mech, path(mech, world, pelvis), linearrows=1:0)\n",
    "    jointtasks = Dict(JointAccelerationTask(mech, j) => Symmetric(speye(1)) for j in revolutejoints)\n",
    "    contactsettings = Dict(b => ContactSettings{N}.(infos) for (b, infos) in contactinfo)\n",
    "    contactsettingsvec = vcat(values(contactsettings)...)\n",
    "    motionconstraints = AbstractMotionTask[]\n",
    "    append!(motionconstraints, values(foottasks))\n",
    "    push!(motionconstraints, pelvistask)\n",
    "    lowlevel = MomentumBasedController(mechanism, optimizer, contactsettingsvec, motionconstraints, jointtasks)\n",
    "    controller = StandingController{N, typeof(lowlevel)}(foottasks, pelvistask, jointtasks, contactsettings, lowlevel)\n",
    "    set_joint_accel_regularization!(controller, 0.0)\n",
    "    controller\n",
    "end"
   ]
  },
  {
   "cell_type": "code",
   "execution_count": 21,
   "metadata": {},
   "outputs": [
    {
     "data": {
      "text/plain": [
       "set_joint_accel_regularization! (generic function with 1 method)"
      ]
     },
     "execution_count": 21,
     "metadata": {},
     "output_type": "execute_result"
    }
   ],
   "source": [
    "function set_joint_accel_regularization!(controller::StandingController, weight::Number)\n",
    "    for taskweight in values(controller.jointtasks)\n",
    "        taskweight.data[:] = weight\n",
    "    end\n",
    "    nothing\n",
    "end"
   ]
  },
  {
   "cell_type": "code",
   "execution_count": 22,
   "metadata": {},
   "outputs": [],
   "source": [
    "feet = Dict(:left => findbody(mechanism, \"l_foot\"), :right => findbody(mechanism, \"r_foot\"))\n",
    "pelvis = findbody(mechanism, \"pelvis\")\n",
    "contactinfo = Dict{RigidBody{Float64}, Vector{ContactInfo}}()\n",
    "μ = 0.8\n",
    "for body in bodies(mechanism)\n",
    "    points = RigidBodyDynamics.location.(RigidBodyDynamics.contact_points(body))\n",
    "    if !isempty(points)\n",
    "        normal = FreeVector3D(default_frame(body), 0.0, 0.0, 1.0)\n",
    "        contactinfo[body] = [ContactInfo(point, normal, μ) for point in points]\n",
    "    end\n",
    "end\n",
    "using OSQP.MathOptInterfaceOSQP\n",
    "optimizer = OSQPOptimizer();"
   ]
  },
  {
   "cell_type": "code",
   "execution_count": 34,
   "metadata": {},
   "outputs": [
    {
     "name": "stderr",
     "output_type": "stream",
     "text": [
      "WARNING: Method definition set_up_qp!(MomentumBasedControl.MomentumBasedController{O, N, M} where M where N where O<:MathOptInterface.AbstractOptimizer, Base.Dict{#s10, Base.LinAlg.Symmetric{Float64, Base.SparseArrays.SparseMatrixCSC{Float64, Int64}}} where #s10<:MomentumBasedControl.AbstractMotionTask) in module MomentumBasedControl at /Users/twan/code/julia/RigidBodyDynamics/v0.6/MomentumBasedControl/src/controller.jl:73 overwritten at /Users/twan/code/julia/RigidBodyDynamics/v0.6/MomentumBasedControl/src/controller.jl:73.\n"
     ]
    }
   ],
   "source": [
    "controller = StandingController{4}(mechanism, optimizer, feet, pelvis, contactinfo);"
   ]
  },
  {
   "cell_type": "code",
   "execution_count": null,
   "metadata": {},
   "outputs": [],
   "source": []
  }
 ],
 "metadata": {
  "kernelspec": {
   "display_name": "Julia 0.6.2",
   "language": "julia",
   "name": "julia-0.6"
  },
  "language_info": {
   "file_extension": ".jl",
   "mimetype": "application/julia",
   "name": "julia",
   "version": "0.6.2"
  }
 },
 "nbformat": 4,
 "nbformat_minor": 2
}
