{
 "cells": [
  {
   "cell_type": "code",
   "execution_count": 1,
   "metadata": {
    "collapsed": false
   },
   "outputs": [
    {
     "data": {
      "text/html": [
       "<div id=\"interact-js-shim\">\n",
       "    <script charset=\"utf-8\">\n",
       "(function (IPython, $, _, MathJax) {\n",
       "    $.event.special.destroyed = {\n",
       "\tremove: function(o) {\n",
       "\t    if (o.handler) {\n",
       "\t\to.handler.apply(this, arguments)\n",
       "\t    }\n",
       "\t}\n",
       "    }\n",
       "\n",
       "    var OutputArea = IPython.version >= \"4.0.0\" ? require(\"notebook/js/outputarea\").OutputArea : IPython.OutputArea;\n",
       "\n",
       "    var redrawValue = function (container, type, val) {\n",
       "\tvar selector = $(\"<div/>\");\n",
       "\tvar oa = new OutputArea(_.extend(selector, {\n",
       "\t    selector: selector,\n",
       "\t    prompt_area: true,\n",
       "\t    events: IPython.events,\n",
       "\t    keyboard_manager: IPython.keyboard_manager\n",
       "\t})); // Hack to work with IPython 2.1.0\n",
       "\n",
       "\tswitch (type) {\n",
       "\tcase \"image/png\":\n",
       "            var _src = 'data:' + type + ';base64,' + val;\n",
       "\t    $(container).find(\"img\").attr('src', _src);\n",
       "\t    break;\n",
       "\tcase \"text/latex\":\n",
       "\t\tif (MathJax){\n",
       "\t\t\tvar math = MathJax.Hub.getAllJax(container)[0];\n",
       "\t\t\tMathJax.Hub.Queue([\"Text\", math, val.replace(/^\\${1,2}|\\${1,2}$/g, '')]);\n",
       "\t\t\tbreak;\n",
       "\t\t}\n",
       "\tdefault:\n",
       "\t    var toinsert = OutputArea.append_map[type].apply(\n",
       "\t\toa, [val, {}, selector]\n",
       "\t    );\n",
       "\t    $(container).empty().append(toinsert.contents());\n",
       "\t    selector.remove();\n",
       "\t}\n",
       "    }\n",
       "\n",
       "\n",
       "    $(document).ready(function() {\n",
       "\tfunction initComm(evt, data) {\n",
       "\t    var comm_manager = data.kernel.comm_manager;\n",
       "        //_.extend(comm_manager.targets, require(\"widgets/js/widget\"))\n",
       "\t    comm_manager.register_target(\"Signal\", function (comm) {\n",
       "            comm.on_msg(function (msg) {\n",
       "                var val = msg.content.data.value;\n",
       "                $(\".signal-\" + comm.comm_id).each(function() {\n",
       "                var type = $(this).data(\"type\");\n",
       "                if (typeof(val[type]) !== \"undefined\" && val[type] !== null) {\n",
       "                    redrawValue(this, type, val[type], type);\n",
       "                }\n",
       "                });\n",
       "                delete val;\n",
       "                delete msg.content.data.value;\n",
       "            });\n",
       "\t    });\n",
       "\n",
       "\t    // coordingate with Comm and redraw Signals\n",
       "\t    // XXX: Test using Reactive here to improve performance\n",
       "\t    $([IPython.events]).on(\n",
       "\t\t'output_appended.OutputArea', function (event, type, value, md, toinsert) {\n",
       "\t\t    if (md && md.reactive) {\n",
       "                // console.log(md.comm_id);\n",
       "                toinsert.addClass(\"signal-\" + md.comm_id);\n",
       "                toinsert.data(\"type\", type);\n",
       "                // Signal back indicating the mimetype required\n",
       "                var comm_manager = IPython.notebook.kernel.comm_manager;\n",
       "                var comm = comm_manager.comms[md.comm_id];\n",
       "                comm.then(function (c) {\n",
       "                    c.send({action: \"subscribe_mime\",\n",
       "                       mime: type});\n",
       "                    toinsert.bind(\"destroyed\", function() {\n",
       "                        c.send({action: \"unsubscribe_mime\",\n",
       "                               mime: type});\n",
       "                    });\n",
       "                })\n",
       "\t\t    }\n",
       "\t    });\n",
       "\t}\n",
       "\n",
       "\ttry {\n",
       "\t    // try to initialize right away. otherwise, wait on the status_started event.\n",
       "\t    initComm(undefined, IPython.notebook);\n",
       "\t} catch (e) {\n",
       "\t    $([IPython.events]).on('kernel_created.Kernel kernel_created.Session', initComm);\n",
       "\t}\n",
       "    });\n",
       "})(IPython, jQuery, _, MathJax);\n",
       "</script>\n",
       "    <script>\n",
       "        window.interactLoadedFlag = true\n",
       "       $(\"#interact-js-shim\").bind(\"destroyed\", function () {\n",
       "           if (window.interactLoadedFlag) {\n",
       "               console.warn(\"JavaScript required by Interact will be removed if you remove this cell or run using Interact more than once.\")\n",
       "           }\n",
       "       })\n",
       "       $([IPython.events]).on(\"kernel_starting.Kernel kernel_restarting.Kernel\", function () { window.interactLoadedFlag = false })\n",
       "   </script>\n",
       "</div>"
      ]
     },
     "metadata": {},
     "output_type": "display_data"
    },
    {
     "name": "stderr",
     "output_type": "stream",
     "text": [
      "\u001b[1m\u001b[36mINFO: \u001b[39m\u001b[22m\u001b[36mRecompiling stale cache file /home/twan/code/RigidBodyDynamics/lib/v0.6/MomentumBasedControl.ji for module MomentumBasedControl.\n",
      "\u001b[39m"
     ]
    }
   ],
   "source": [
    "using RigidBodySim\n",
    "using RigidBodyDynamics\n",
    "using ValkyrieRobot\n",
    "using OrdinaryDiffEq\n",
    "using DiffEqCallbacks\n",
    "using RigidBodyTreeInspector\n",
    "using ValkyrieRobot.BipedControlUtil\n",
    "using RigidBodyDynamics.Contact\n",
    "using RigidBodyDynamics.PDControl\n",
    "using MomentumBasedControl\n",
    "using StaticArrays\n",
    "using RigidBodyTreeInspector, DrakeVisualizer\n",
    "using ValkyrieRobot, ValkyrieRobot.BipedControlUtil\n",
    "using ForwardDiff"
   ]
  },
  {
   "cell_type": "code",
   "execution_count": 2,
   "metadata": {
    "collapsed": false
   },
   "outputs": [],
   "source": [
    "val = Valkyrie()\n",
    "mechanism = val.mechanism;\n",
    "remove_fixed_tree_joints!(mechanism);"
   ]
  },
  {
   "cell_type": "code",
   "execution_count": 3,
   "metadata": {
    "collapsed": false
   },
   "outputs": [],
   "source": [
    "# add environment\n",
    "rootframe = root_frame(mechanism)\n",
    "floor = HalfSpace3D(Point3D(rootframe, 0., 0., 0.), FreeVector3D(rootframe, 0., 0., 1.))\n",
    "add_environment_primitive!(mechanism, floor);"
   ]
  },
  {
   "cell_type": "code",
   "execution_count": 4,
   "metadata": {
    "collapsed": false
   },
   "outputs": [],
   "source": [
    "# Create visualizer\n",
    "any_open_visualizer_windows() || (new_visualizer_window(); sleep(1));\n",
    "vis = Visualizer()[:valkyrie]\n",
    "setgeometry!(vis, mechanism, RigidBodyTreeInspector.parse_urdf(ValkyrieRobot.urdfpath(), mechanism; package_path = [ValkyrieRobot.packagepath()]))"
   ]
  },
  {
   "cell_type": "code",
   "execution_count": 5,
   "metadata": {
    "collapsed": false
   },
   "outputs": [],
   "source": [
    "feet = Dict(:left => findbody(mechanism, \"leftFoot\"), :right => findbody(mechanism, \"rightFoot\"))\n",
    "hands = Dict(:left => findbody(mechanism, \"leftPalm\"), :right => findbody(mechanism, \"rightPalm\"));"
   ]
  },
  {
   "cell_type": "code",
   "execution_count": 6,
   "metadata": {
    "collapsed": false
   },
   "outputs": [],
   "source": [
    "state = MechanismState(mechanism)\n",
    "controllerstate = MomentumBasedControllerState(state);"
   ]
  },
  {
   "cell_type": "code",
   "execution_count": 7,
   "metadata": {
    "collapsed": false
   },
   "outputs": [
    {
     "data": {
      "text/plain": [
       "initialize (generic function with 1 method)"
      ]
     },
     "execution_count": 7,
     "metadata": {},
     "output_type": "execute_result"
    }
   ],
   "source": [
    "function initialize(state::MechanismState, controllerstate::MomentumBasedControllerState, val::Valkyrie, vis::Visualizer)\n",
    "    zero!(state)\n",
    "    for side in instances(Side)\n",
    "        set_configuration!(state, findjoint(mechanism, \"$(side)KneePitch\"), [1.205])\n",
    "        set_configuration!(state, findjoint(mechanism, \"$(side)HipPitch\"), [-0.49])\n",
    "        set_configuration!(state, findjoint(mechanism, \"$(side)AnklePitch\"), [-0.71])\n",
    "        set_configuration!(state, findjoint(mechanism, \"$(side)ShoulderPitch\"), [0.300196631343025])\n",
    "        set_configuration!(state, findjoint(mechanism, \"$(side)ShoulderRoll\"), [flipsign_if_right(-1.25, side)])\n",
    "        set_configuration!(state, findjoint(mechanism, \"$(side)ElbowPitch\"), [flipsign_if_right(-0.785398163397448, side)])\n",
    "        set_configuration!(state, findjoint(mechanism, \"$(side)ForearmYaw\"), [1.571])\n",
    "    end\n",
    "#     kneebend = 1.1\n",
    "#     hipbendextra = 0.1\n",
    "#     for side in instances(Side)\n",
    "#         set_configuration!(state, val.knees[side], [kneebend])\n",
    "#         set_configuration!(state, val.hippitches[side], [-kneebend / 2 + hipbendextra])\n",
    "#         set_configuration!(state, val.anklepitches[side], [-kneebend / 2 - hipbendextra])\n",
    "#     end\n",
    "    set_configuration!(state, val.basejoint, [1; 0; 0; 0; 0; 0; 1.025])\n",
    "    settransform!(vis, state)\n",
    "    MomentumBasedControl.reset!(controllerstate)\n",
    "    nothing\n",
    "end"
   ]
  },
  {
   "cell_type": "code",
   "execution_count": 8,
   "metadata": {
    "collapsed": false
   },
   "outputs": [],
   "source": [
    "# τ = Vector{Float64}(num_velocities(mechanism))\n",
    "# result = DynamicsResult{Float64}(mechanism)\n",
    "# function damped_dynamics!(vd::AbstractArray, sd::AbstractArray, t, state)\n",
    "#     τ[:] = velocity(state)\n",
    "#     scale!(τ, -1.0)\n",
    "#     dynamics!(result, state, τ)\n",
    "#     copy!(vd, result.v̇)\n",
    "#     copy!(sd, result.ṡ)\n",
    "# end"
   ]
  },
  {
   "cell_type": "code",
   "execution_count": 9,
   "metadata": {
    "collapsed": true
   },
   "outputs": [],
   "source": [
    "initialize(state, controllerstate, val, vis)"
   ]
  },
  {
   "cell_type": "code",
   "execution_count": 10,
   "metadata": {
    "collapsed": false
   },
   "outputs": [],
   "source": [
    "controller = MomentumBasedController(mechanism, 1 / 300); # FIXME: should user PeriodicController\n",
    "contacts = add_mechanism_contacts!(controller)\n",
    "jointacceltasks = add_mechanism_joint_accel_tasks!(controller);"
   ]
  },
  {
   "cell_type": "code",
   "execution_count": 11,
   "metadata": {
    "collapsed": false
   },
   "outputs": [
    {
     "data": {
      "text/plain": [
       "RigidBodyDynamics.PDControl.PDGains{Float64,Float64}(10.0, 3.0)"
      ]
     },
     "execution_count": 11,
     "metadata": {},
     "output_type": "execute_result"
    }
   ],
   "source": [
    "comgains = PDGains(10., 3.)"
   ]
  },
  {
   "cell_type": "code",
   "execution_count": 12,
   "metadata": {
    "collapsed": false
   },
   "outputs": [],
   "source": [
    "# Foot accelerations w.r.t. world\n",
    "footacceltasks = Dict{Side, SpatialAccelerationTask{Float64}}()\n",
    "nv = num_velocities(mechanism)\n",
    "legjoints = []\n",
    "for side in instances(Side)\n",
    "    foot = val.feet[side]\n",
    "    world_to_foot = path(mechanism, root_body(mechanism), foot)\n",
    "    pelvis_to_foot = path(mechanism, val.pelvis, foot)\n",
    "    append!(legjoints, pelvis_to_foot)\n",
    "    frame = default_frame(foot)\n",
    "    task = footacceltasks[side] = SpatialAccelerationTask(nv, world_to_foot, frame, eye(3, 3), eye(3, 3))\n",
    "    add!(controller, task)\n",
    "end"
   ]
  },
  {
   "cell_type": "code",
   "execution_count": 13,
   "metadata": {
    "collapsed": false
   },
   "outputs": [],
   "source": [
    "# Pelvis acceleration w.r.t. world\n",
    "pelvisacceltask = SpatialAccelerationTask(nv, path(mechanism, root_body(mechanism), val.pelvis), default_frame(val.pelvis), eye(3, 3), zeros(0, 3))\n",
    "add!(controller, pelvisacceltask)\n",
    "pelvisgains = PDGains(10., 2.)\n",
    ";"
   ]
  },
  {
   "cell_type": "code",
   "execution_count": 14,
   "metadata": {
    "collapsed": false
   },
   "outputs": [],
   "source": [
    "#Position control tasks\n",
    "revolutejoints = filter(j -> joint_type(j) isa Revolute, joints(mechanism))\n",
    "positioncontroltasks = Dict(joint => jointacceltasks[joint] for joint in setdiff(revolutejoints, legjoints))\n",
    "positioncontrolgains = Dict(joint => PDGains(100.0, 20.) for joint in keys(positioncontroltasks))\n",
    ";"
   ]
  },
  {
   "cell_type": "code",
   "execution_count": 15,
   "metadata": {
    "collapsed": false
   },
   "outputs": [
    {
     "data": {
      "text/plain": [
       "(::#23) (generic function with 1 method)"
      ]
     },
     "execution_count": 15,
     "metadata": {},
     "output_type": "execute_result"
    }
   ],
   "source": [
    "# Position control references\n",
    "references = Dict{Joint{Float64}, Any}(joint => zero for joint in keys(positioncontroltasks))\n",
    "references[findjoint(mechanism, \"rightShoulderRoll\")] = t -> π/2 - 0.1\n",
    "references[findjoint(mechanism, \"rightShoulderYaw\")] = t -> 1.\n",
    "references[findjoint(mechanism, \"leftElbowPitch\")] = t -> -0.4\n",
    "references[findjoint(mechanism, \"leftWristPitch\")] = t -> 0.5\n",
    "references[findjoint(mechanism, \"leftShoulderRoll\")] = t -> 0.9 + 0.3 * sin(t)"
   ]
  },
  {
   "cell_type": "code",
   "execution_count": 16,
   "metadata": {
    "collapsed": false
   },
   "outputs": [],
   "source": [
    "for (joint, ref) in references\n",
    "    configuration(state, joint)[:] = ref(0.)\n",
    "    velocity(state, joint)[:] = ForwardDiff.derivative(ref, 0.)\n",
    "end\n",
    "setdirty!(state)\n",
    "settransform!(vis, state);"
   ]
  },
  {
   "cell_type": "code",
   "execution_count": 17,
   "metadata": {
    "collapsed": false
   },
   "outputs": [
    {
     "data": {
      "text/plain": [
       "FreeVector3D in \"world\": [0.0, 0.0, 1.0]"
      ]
     },
     "execution_count": 17,
     "metadata": {},
     "output_type": "execute_result"
    }
   ],
   "source": [
    "feet = val.feet\n",
    "com0 = center_of_mass(state)\n",
    "com0 += FreeVector3D(com0.frame, 0.0, 0.0, -0.05)\n",
    "μ = 0.8\n",
    "normal = floor.outward_normal"
   ]
  },
  {
   "cell_type": "code",
   "execution_count": 18,
   "metadata": {
    "collapsed": false
   },
   "outputs": [
    {
     "data": {
      "text/plain": [
       "high_level_control (generic function with 1 method)"
      ]
     },
     "execution_count": 18,
     "metadata": {},
     "output_type": "execute_result"
    }
   ],
   "source": [
    "# FIXME: referencing global variables\n",
    "function high_level_control(τ::AbstractVector, t::Number, state::MechanismState)\n",
    "        # TODO: extract out: highlevelcontrol\n",
    "    # Foot accelerations\n",
    "    T = eltype(controller)\n",
    "    MomentumBasedControl.reset!(controller)\n",
    "    regularize_joint_accels!(controller, 0.05)\n",
    "    for (side, task) in footacceltasks\n",
    "        zero!(task, Inf)\n",
    "        \n",
    "        body = RigidBodyDynamics.Graphs.target(task.path)\n",
    "        for contactsettings in contacts[body]\n",
    "            set!(contactsettings, 1e-1, μ, transform(state, normal, default_frame(body)))\n",
    "        end\n",
    "    end\n",
    "    \n",
    "    # Pelvis orientation control\n",
    "    Hpelvis = transform_to_root(state, val.pelvis)\n",
    "    Tpelvis = transform(twist_wrt_world(state, val.pelvis), inv(Hpelvis))\n",
    "    ωdpelvis = pd(pelvisgains, rotation(Hpelvis), Tpelvis.angular)\n",
    "    Ṫpelvis = SpatialAcceleration(Tpelvis.body, Tpelvis.base, Tpelvis.frame, ωdpelvis, zero(ωdpelvis))\n",
    "    set!(pelvisacceltask, Ṫpelvis, Inf)\n",
    "    \n",
    "    # Joint position control\n",
    "    for (joint, task) in positioncontroltasks\n",
    "        gains = positioncontrolgains[joint]\n",
    "        ref = references[joint]\n",
    "        qjoint, vjoint, vdjoint = val_deriv_deriv2(ref, t)\n",
    "        accel = vdjoint = pd(gains, configuration(state, joint), qjoint, velocity(state, joint), vjoint)\n",
    "        set!(task, accel, Inf)\n",
    "    end\n",
    "    \n",
    "    # Centroidal momentum control\n",
    "    pd_center_of_mass!(controller, comgains, state, com0, FreeVector3D(T, com0.frame), 1.0)\n",
    "\n",
    "    τ[:] = control(controller, t, controllerstate)\n",
    "    τ\n",
    "end"
   ]
  },
  {
   "cell_type": "code",
   "execution_count": 19,
   "metadata": {
    "collapsed": false
   },
   "outputs": [
    {
     "name": "stdout",
     "output_type": "stream",
     "text": [
      " 38.510373 seconds (40.36 M allocations: 24.420 GiB, 10.69% gc time)\n"
     ]
    }
   ],
   "source": [
    "initialize(state, controllerstate, val, vis)\n",
    "final_time = 1.\n",
    "problem = ODEProblem(state, (0., final_time), high_level_control)\n",
    "@time sol = solve(problem, Tsit5(), abs_tol = 1e-8, dt = controller.Δt, callback = CallbackSet(vis, state, max_fps = 30.));"
   ]
  },
  {
   "cell_type": "code",
   "execution_count": 20,
   "metadata": {
    "collapsed": false
   },
   "outputs": [],
   "source": [
    "animate(vis, state, sol)"
   ]
  },
  {
   "cell_type": "code",
   "execution_count": null,
   "metadata": {
    "collapsed": true
   },
   "outputs": [],
   "source": []
  }
 ],
 "metadata": {
  "kernelspec": {
   "display_name": "Julia 0.6.2",
   "language": "julia",
   "name": "julia-0.6"
  },
  "language_info": {
   "file_extension": ".jl",
   "mimetype": "application/julia",
   "name": "julia",
   "version": "0.6.2"
  }
 },
 "nbformat": 4,
 "nbformat_minor": 1
}
