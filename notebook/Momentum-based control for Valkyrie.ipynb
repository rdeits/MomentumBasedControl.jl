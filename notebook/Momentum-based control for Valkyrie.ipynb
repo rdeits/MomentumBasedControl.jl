{
 "cells": [
  {
   "cell_type": "code",
   "execution_count": 1,
   "metadata": {
    "collapsed": false
   },
   "outputs": [
    {
     "data": {
      "text/html": [
       "<div id=\"interact-js-shim\">\n",
       "    <script charset=\"utf-8\">\n",
       "(function (IPython, $, _, MathJax) {\n",
       "    $.event.special.destroyed = {\n",
       "\tremove: function(o) {\n",
       "\t    if (o.handler) {\n",
       "\t\to.handler.apply(this, arguments)\n",
       "\t    }\n",
       "\t}\n",
       "    }\n",
       "\n",
       "    var OutputArea = IPython.version >= \"4.0.0\" ? require(\"notebook/js/outputarea\").OutputArea : IPython.OutputArea;\n",
       "\n",
       "    var redrawValue = function (container, type, val) {\n",
       "\tvar selector = $(\"<div/>\");\n",
       "\tvar oa = new OutputArea(_.extend(selector, {\n",
       "\t    selector: selector,\n",
       "\t    prompt_area: true,\n",
       "\t    events: IPython.events,\n",
       "\t    keyboard_manager: IPython.keyboard_manager\n",
       "\t})); // Hack to work with IPython 2.1.0\n",
       "\n",
       "\tswitch (type) {\n",
       "\tcase \"image/png\":\n",
       "            var _src = 'data:' + type + ';base64,' + val;\n",
       "\t    $(container).find(\"img\").attr('src', _src);\n",
       "\t    break;\n",
       "\tcase \"text/latex\":\n",
       "\t\tif (MathJax){\n",
       "\t\t\tvar math = MathJax.Hub.getAllJax(container)[0];\n",
       "\t\t\tMathJax.Hub.Queue([\"Text\", math, val.replace(/^\\${1,2}|\\${1,2}$/g, '')]);\n",
       "\t\t\tbreak;\n",
       "\t\t}\n",
       "\tdefault:\n",
       "\t    var toinsert = OutputArea.append_map[type].apply(\n",
       "\t\toa, [val, {}, selector]\n",
       "\t    );\n",
       "\t    $(container).empty().append(toinsert.contents());\n",
       "\t    selector.remove();\n",
       "\t}\n",
       "    }\n",
       "\n",
       "\n",
       "    $(document).ready(function() {\n",
       "\tfunction initComm(evt, data) {\n",
       "\t    var comm_manager = data.kernel.comm_manager;\n",
       "        //_.extend(comm_manager.targets, require(\"widgets/js/widget\"))\n",
       "\t    comm_manager.register_target(\"Signal\", function (comm) {\n",
       "            comm.on_msg(function (msg) {\n",
       "                var val = msg.content.data.value;\n",
       "                $(\".signal-\" + comm.comm_id).each(function() {\n",
       "                var type = $(this).data(\"type\");\n",
       "                if (typeof(val[type]) !== \"undefined\" && val[type] !== null) {\n",
       "                    redrawValue(this, type, val[type], type);\n",
       "                }\n",
       "                });\n",
       "                delete val;\n",
       "                delete msg.content.data.value;\n",
       "            });\n",
       "\t    });\n",
       "\n",
       "\t    // coordingate with Comm and redraw Signals\n",
       "\t    // XXX: Test using Reactive here to improve performance\n",
       "\t    $([IPython.events]).on(\n",
       "\t\t'output_appended.OutputArea', function (event, type, value, md, toinsert) {\n",
       "\t\t    if (md && md.reactive) {\n",
       "                // console.log(md.comm_id);\n",
       "                toinsert.addClass(\"signal-\" + md.comm_id);\n",
       "                toinsert.data(\"type\", type);\n",
       "                // Signal back indicating the mimetype required\n",
       "                var comm_manager = IPython.notebook.kernel.comm_manager;\n",
       "                var comm = comm_manager.comms[md.comm_id];\n",
       "                comm.then(function (c) {\n",
       "                    c.send({action: \"subscribe_mime\",\n",
       "                       mime: type});\n",
       "                    toinsert.bind(\"destroyed\", function() {\n",
       "                        c.send({action: \"unsubscribe_mime\",\n",
       "                               mime: type});\n",
       "                    });\n",
       "                })\n",
       "\t\t    }\n",
       "\t    });\n",
       "\t}\n",
       "\n",
       "\ttry {\n",
       "\t    // try to initialize right away. otherwise, wait on the status_started event.\n",
       "\t    initComm(undefined, IPython.notebook);\n",
       "\t} catch (e) {\n",
       "\t    $([IPython.events]).on('kernel_created.Kernel kernel_created.Session', initComm);\n",
       "\t}\n",
       "    });\n",
       "})(IPython, jQuery, _, MathJax);\n",
       "</script>\n",
       "    <script>\n",
       "        window.interactLoadedFlag = true\n",
       "       $(\"#interact-js-shim\").bind(\"destroyed\", function () {\n",
       "           if (window.interactLoadedFlag) {\n",
       "               console.warn(\"JavaScript required by Interact will be removed if you remove this cell or run using Interact more than once.\")\n",
       "           }\n",
       "       })\n",
       "       $([IPython.events]).on(\"kernel_starting.Kernel kernel_restarting.Kernel\", function () { window.interactLoadedFlag = false })\n",
       "   </script>\n",
       "</div>"
      ]
     },
     "metadata": {},
     "output_type": "display_data"
    }
   ],
   "source": [
    "using RigidBodyDynamics, RigidBodyDynamics.Contact, RigidBodyDynamics.OdeIntegrators\n",
    "using MomentumBasedControl, MomentumBasedControl.PDControl\n",
    "using StaticArrays\n",
    "using RigidBodyTreeInspector, DrakeVisualizer\n",
    "using ValkyrieRobot\n",
    "using BipedControlUtil\n",
    "using ForwardDiff"
   ]
  },
  {
   "cell_type": "code",
   "execution_count": 2,
   "metadata": {
    "collapsed": false
   },
   "outputs": [],
   "source": [
    "val = Valkyrie()\n",
    "mechanism = val.mechanism;"
   ]
  },
  {
   "cell_type": "code",
   "execution_count": 3,
   "metadata": {
    "collapsed": false
   },
   "outputs": [],
   "source": [
    "# add environment\n",
    "rootframe = root_frame(mechanism)\n",
    "floor = HalfSpace3D(Point3D(rootframe, 0., 0., 0.), FreeVector3D(rootframe, 0., 0., 1.))\n",
    "add_environment_primitive!(mechanism, floor);"
   ]
  },
  {
   "cell_type": "code",
   "execution_count": 4,
   "metadata": {
    "collapsed": false
   },
   "outputs": [],
   "source": [
    "# Create visualizer\n",
    "DrakeVisualizer.any_open_windows() || (DrakeVisualizer.new_window(); sleep(1))\n",
    "vis = Visualizer(parse_urdf(ValkyrieRobot.urdfpath(), mechanism; package_path = [ValkyrieRobot.packagepath()]), :valkyrie);"
   ]
  },
  {
   "cell_type": "code",
   "execution_count": 5,
   "metadata": {
    "collapsed": false
   },
   "outputs": [],
   "source": [
    "remove_fixed_tree_joints!(mechanism)\n",
    "const state = MechanismState(Float64, mechanism)\n",
    "const controllerstate = MomentumBasedControllerState(state);"
   ]
  },
  {
   "cell_type": "code",
   "execution_count": 6,
   "metadata": {
    "collapsed": false
   },
   "outputs": [],
   "source": [
    "# Initial setup\n",
    "zero!(state)\n",
    "kneebend = 1.1\n",
    "hipbendextra = 0.1\n",
    "for side in instances(Side)\n",
    "    set_configuration!(state, val.knees[side], [kneebend])\n",
    "    set_configuration!(state, val.hippitches[side], [-kneebend / 2 + hipbendextra])\n",
    "    set_configuration!(state, val.anklepitches[side], [-kneebend / 2 - hipbendextra])\n",
    "end\n",
    "set_configuration!(state, val.floatingjoint, [1; 0; 0; 0; 0; 0; 1.05]) # TODO\n",
    "settransform!(vis, state)\n",
    "MomentumBasedControl.reset!(controllerstate);"
   ]
  },
  {
   "cell_type": "code",
   "execution_count": 7,
   "metadata": {
    "collapsed": false
   },
   "outputs": [
    {
     "data": {
      "text/plain": [
       "damped_dynamics! (generic function with 1 method)"
      ]
     },
     "execution_count": 7,
     "metadata": {},
     "output_type": "execute_result"
    }
   ],
   "source": [
    "const τ = Vector{Float64}(num_velocities(mechanism))\n",
    "const result = DynamicsResult(Float64, mechanism)\n",
    "function damped_dynamics!(vd::AbstractArray, sd::AbstractArray, t, state)\n",
    "    τ[:] = velocity(state)\n",
    "    scale!(τ, -1.0)\n",
    "    dynamics!(result, state, τ)\n",
    "    copy!(vd, result.v̇)\n",
    "    copy!(sd, result.ṡ)\n",
    "end"
   ]
  },
  {
   "cell_type": "code",
   "execution_count": 8,
   "metadata": {
    "collapsed": false
   },
   "outputs": [],
   "source": [
    "const controller = MomentumBasedController{Float64}(mechanism, 5e-3);\n",
    "contacts = add_mechanism_contacts!(controller)\n",
    "jointacceltasks = add_mechanism_joint_accel_tasks!(controller);"
   ]
  },
  {
   "cell_type": "code",
   "execution_count": 9,
   "metadata": {
    "collapsed": false
   },
   "outputs": [
    {
     "data": {
      "text/plain": [
       "MomentumBasedControl.PDControl.PDGains{Float64}(10.0,3.0)"
      ]
     },
     "execution_count": 9,
     "metadata": {},
     "output_type": "execute_result"
    }
   ],
   "source": [
    "comgains = PDGains(10., 3.)"
   ]
  },
  {
   "cell_type": "code",
   "execution_count": 10,
   "metadata": {
    "collapsed": false
   },
   "outputs": [],
   "source": [
    "# Foot accelerations w.r.t. world\n",
    "footacceltasks = Dict{Side, SpatialAccelerationTask{Float64}}()\n",
    "legjoints = []\n",
    "for side in instances(Side)\n",
    "    foot = val.feet[side]\n",
    "    world_to_foot = path(mechanism, root_body(mechanism), foot)\n",
    "    pelvis_to_foot = path(mechanism, val.pelvis, foot)\n",
    "    append!(legjoints, joint for (joint, direction) in pelvis_to_foot)\n",
    "    frame = default_frame(foot)\n",
    "    task = footacceltasks[side] = SpatialAccelerationTask(world_to_foot, frame, eye(3, 3), eye(3, 3))\n",
    "    add!(controller, task)\n",
    "end"
   ]
  },
  {
   "cell_type": "code",
   "execution_count": 11,
   "metadata": {
    "collapsed": false
   },
   "outputs": [],
   "source": [
    "# Pelvis acceleration w.r.t. world\n",
    "pelvisacceltask = SpatialAccelerationTask(path(mechanism, root_body(mechanism), val.pelvis), default_frame(val.pelvis), eye(3, 3), zeros(0, 3))\n",
    "add!(controller, pelvisacceltask)\n",
    "pelvisgains = PDGains(10., 2.)\n",
    ";"
   ]
  },
  {
   "cell_type": "code",
   "execution_count": 12,
   "metadata": {
    "collapsed": false
   },
   "outputs": [],
   "source": [
    "#Position control tasks\n",
    "revolutejoints = filter(j -> isa(j.jointType, Revolute), joints(mechanism))\n",
    "positioncontroltasks = Dict(joint => jointacceltasks[joint] for joint in setdiff(revolutejoints, legjoints))\n",
    "positioncontrolgains = Dict(joint => PDGains(100.0, 20.) for joint in keys(positioncontroltasks))\n",
    ";"
   ]
  },
  {
   "cell_type": "code",
   "execution_count": 13,
   "metadata": {
    "collapsed": false
   },
   "outputs": [
    {
     "data": {
      "text/plain": [
       "(::#19) (generic function with 1 method)"
      ]
     },
     "execution_count": 13,
     "metadata": {},
     "output_type": "execute_result"
    }
   ],
   "source": [
    "# Position control references\n",
    "references = Dict{Joint{Float64}, Any}(joint => zero for joint in keys(positioncontroltasks))\n",
    "references[findjoint(mechanism, \"rightShoulderRoll\")] = t -> π/2 - 0.1\n",
    "references[findjoint(mechanism, \"rightShoulderYaw\")] = t -> 1.\n",
    "references[findjoint(mechanism, \"leftElbowPitch\")] = t -> -0.4\n",
    "references[findjoint(mechanism, \"leftWristPitch\")] = t -> 0.5\n",
    "references[findjoint(mechanism, \"leftShoulderRoll\")] = t -> 0.9 + 0.3 * sin(t)"
   ]
  },
  {
   "cell_type": "code",
   "execution_count": 14,
   "metadata": {
    "collapsed": false
   },
   "outputs": [
    {
     "data": {
      "text/plain": [
       "Set{Array{Symbol,1}}()"
      ]
     },
     "execution_count": 14,
     "metadata": {},
     "output_type": "execute_result"
    }
   ],
   "source": [
    "for (joint, ref) in references\n",
    "    configuration(state, joint)[:] = ref(0.)\n",
    "    velocity(state, joint)[:] = ForwardDiff.derivative(ref, 0.)\n",
    "end\n",
    "setdirty!(state)\n",
    "settransform!(vis, state)"
   ]
  },
  {
   "cell_type": "code",
   "execution_count": 15,
   "metadata": {
    "collapsed": false
   },
   "outputs": [
    {
     "data": {
      "text/plain": [
       "controlled_dynamics! (generic function with 1 method)"
      ]
     },
     "execution_count": 15,
     "metadata": {},
     "output_type": "execute_result"
    }
   ],
   "source": [
    "feet = val.feet\n",
    "com0 = center_of_mass(state)\n",
    "com0 += FreeVector3D(com0.frame, 0.0, 0.0, -0.05)\n",
    "μ = 0.8\n",
    "normal = floor.outward_normal\n",
    "i = 0\n",
    "function controlled_dynamics!(vd::AbstractArray, sd::AbstractArray, t, state)\n",
    "    # TODO: extract out: highlevelcontrol\n",
    "    # Foot accelerations\n",
    "    T = eltype(controller)\n",
    "    MomentumBasedControl.reset!(controller)\n",
    "    regularize_joint_accels!(controller, 0.05)\n",
    "    for (side, task) in footacceltasks\n",
    "        zero!(task, Inf)\n",
    "        \n",
    "        body = RigidBodyDynamics.Graphs.target(task.path)\n",
    "        for contactsettings in contacts[body]\n",
    "            set!(contactsettings, 1e-1, μ, transform(state, normal, default_frame(body)))\n",
    "        end\n",
    "    end\n",
    "    \n",
    "    # Pelvis orientation control\n",
    "    Hpelvis = transform_to_root(state, val.pelvis)\n",
    "    Tpelvis = transform(twist_wrt_world(state, val.pelvis), inv(Hpelvis))\n",
    "    ωdpelvis = pd(pelvisgains, rotation(Hpelvis), Tpelvis.angular)\n",
    "    Ṫpelvis = SpatialAcceleration(Tpelvis.body, Tpelvis.base, Tpelvis.frame, ωdpelvis, zero(ωdpelvis))\n",
    "    set!(pelvisacceltask, Ṫpelvis, Inf)\n",
    "    \n",
    "    # Joint position control\n",
    "    for (joint, task) in positioncontroltasks\n",
    "        gains = positioncontrolgains[joint]\n",
    "        ref = references[joint]\n",
    "        qjoint, vjoint, vdjoint = val_deriv_deriv2(ref, t)\n",
    "        accel = vdjoint = pd(gains, configuration(state, joint), qjoint, velocity(state, joint), vjoint)\n",
    "        set!(task, accel, Inf)\n",
    "    end\n",
    "    \n",
    "    # Centroidal momentum control\n",
    "    pd_center_of_mass!(controller, comgains, state, com0, FreeVector3D(T, com0.frame), 1.0)\n",
    "\n",
    "    τ = control(controller, t, controllerstate)\n",
    "    dynamics!(result, state, τ)\n",
    "    copy!(vd, result.v̇)\n",
    "    copy!(sd, result.ṡ)\n",
    "end"
   ]
  },
  {
   "cell_type": "code",
   "execution_count": 16,
   "metadata": {
    "collapsed": false
   },
   "outputs": [],
   "source": [
    "# Simulation\n",
    "const dyn! = controlled_dynamics!\n",
    "# const dyn! = damped_dynamics!\n",
    "# sink = DrakeVisualizerSink(vis)\n",
    "const sink = ExpandingStorage{Float64}(10000)\n",
    "const integrator = MuntheKaasIntegrator(dyn!, runge_kutta_4(Float64), sink);"
   ]
  },
  {
   "cell_type": "code",
   "execution_count": 17,
   "metadata": {
    "collapsed": false,
    "scrolled": true
   },
   "outputs": [],
   "source": [
    "integrate(integrator, state, 10., 1e-4, maxRealtimeRate = Inf)"
   ]
  },
  {
   "cell_type": "code",
   "execution_count": 20,
   "metadata": {
    "collapsed": true
   },
   "outputs": [],
   "source": [
    "animate(vis, mechanism, sink.ts, sink.qs)"
   ]
  }
 ],
 "metadata": {
  "kernelspec": {
   "display_name": "Julia 0.5.1",
   "language": "julia",
   "name": "julia-0.5"
  },
  "language_info": {
   "file_extension": ".jl",
   "mimetype": "application/julia",
   "name": "julia",
   "version": "0.5.1"
  },
  "widgets": {
   "state": {
    "05b5d45c-5c11-4a48-bb69-8d0aeba77cd0": {
     "views": [
      {
       "cell_index": 4
      }
     ]
    },
    "12aa42e4-d90c-4862-a997-ca8c02432507": {
     "views": [
      {
       "cell_index": 4
      }
     ]
    },
    "183c3b98-6590-422b-ab32-e618dd22a1e1": {
     "views": [
      {
       "cell_index": 4
      }
     ]
    },
    "1aa88af3-f1ea-437c-aa7e-1e11ba19d602": {
     "views": [
      {
       "cell_index": 4
      }
     ]
    },
    "24593753-2a9b-4cf3-9464-19eb3994fc37": {
     "views": [
      {
       "cell_index": 4
      }
     ]
    },
    "285e5f4f-9adc-4335-b15b-2e9eb96d70a2": {
     "views": [
      {
       "cell_index": 4
      }
     ]
    },
    "35f2bad4-5f04-4b41-a352-bf5ad9812631": {
     "views": [
      {
       "cell_index": 4
      }
     ]
    },
    "3d3f3851-c07f-4055-ad3d-9d6a12d17536": {
     "views": [
      {
       "cell_index": 4
      }
     ]
    },
    "41322a97-bd0a-4a8e-9d7a-65abc2397c85": {
     "views": [
      {
       "cell_index": 4
      }
     ]
    },
    "45bcc82f-79b3-4a73-88a0-75224f6053f6": {
     "views": [
      {
       "cell_index": 4
      }
     ]
    },
    "46e3a609-44c0-4fc6-a301-0046ee450f79": {
     "views": [
      {
       "cell_index": 4
      }
     ]
    },
    "47d07f1d-b714-406a-aa70-9c1648e0c344": {
     "views": [
      {
       "cell_index": 4
      }
     ]
    },
    "58ed8afa-25ba-4e51-8599-a2a1e00d314b": {
     "views": [
      {
       "cell_index": 4
      }
     ]
    },
    "59c1af4b-cbba-4b7d-bd48-eea781d20687": {
     "views": [
      {
       "cell_index": 4
      }
     ]
    },
    "68d60b84-a291-4e78-b1a6-55ca22b234e7": {
     "views": [
      {
       "cell_index": 4
      }
     ]
    },
    "72e636ff-9a0d-4e0e-ac88-d14910995248": {
     "views": [
      {
       "cell_index": 4
      }
     ]
    },
    "814d5076-c336-4578-9ce5-d56e9102f1c9": {
     "views": [
      {
       "cell_index": 4
      }
     ]
    },
    "90259b4e-4a9f-4348-8898-2e6f6411740a": {
     "views": [
      {
       "cell_index": 4
      }
     ]
    },
    "94333fe4-8438-41c9-b1ba-3d6c4dd3a70f": {
     "views": [
      {
       "cell_index": 4
      }
     ]
    },
    "9968cc15-9a34-455c-a9a3-5e435a7ea416": {
     "views": [
      {
       "cell_index": 4
      }
     ]
    },
    "a072cda9-cd6b-4f9a-bb60-f6ccb17f0435": {
     "views": [
      {
       "cell_index": 4
      }
     ]
    },
    "a7b80703-6ab8-4ea0-8d8f-04189db98896": {
     "views": [
      {
       "cell_index": 4
      }
     ]
    },
    "af6d8638-240c-45dd-a231-7d61845eaf74": {
     "views": [
      {
       "cell_index": 4
      }
     ]
    },
    "b45d12ad-7de0-4b9d-86e4-81bbdce1dcd6": {
     "views": [
      {
       "cell_index": 4
      }
     ]
    },
    "b4f901ba-4cd4-4df2-8adc-b750cdf71f47": {
     "views": [
      {
       "cell_index": 4
      }
     ]
    },
    "b6dc7e58-fc56-4b3b-b7bd-37f547157799": {
     "views": [
      {
       "cell_index": 4
      }
     ]
    },
    "c5c3025a-decf-4f38-bc25-10152fca860c": {
     "views": [
      {
       "cell_index": 4
      }
     ]
    },
    "d2444d73-5c71-4b01-aae5-d142699e8a37": {
     "views": [
      {
       "cell_index": 4
      }
     ]
    },
    "d3f56a8f-d7a0-47a2-95b0-61575af82ab9": {
     "views": [
      {
       "cell_index": 4
      }
     ]
    },
    "d6bda5b3-ac82-453c-84ce-908708ab6128": {
     "views": [
      {
       "cell_index": 4
      }
     ]
    },
    "dacac5f7-7d81-45f6-ae96-2e2d9eec4d0a": {
     "views": [
      {
       "cell_index": 4
      }
     ]
    },
    "e03ed228-5540-4039-8ea5-533971a2b5ac": {
     "views": [
      {
       "cell_index": 4
      }
     ]
    },
    "e3252cab-3c94-4eb4-a007-57f229bdf4ac": {
     "views": [
      {
       "cell_index": 4
      }
     ]
    },
    "eb9dc117-df25-4f0f-b75f-ab81e87b3e4c": {
     "views": [
      {
       "cell_index": 4
      }
     ]
    },
    "fad51a7e-ae85-452d-87db-627b8fb723fd": {
     "views": [
      {
       "cell_index": 4
      }
     ]
    },
    "fbb44c27-917d-477d-a24b-e8c14301273e": {
     "views": [
      {
       "cell_index": 4
      }
     ]
    }
   },
   "version": "1.2.0"
  }
 },
 "nbformat": 4,
 "nbformat_minor": 1
}
